{
 "cells": [
  {
   "cell_type": "markdown",
   "metadata": {},
   "source": [
    "# Create Mask GIF"
   ]
  },
  {
   "cell_type": "code",
   "execution_count": null,
   "metadata": {},
   "outputs": [],
   "source": [
    "import os\n",
    "import imageio"
   ]
  },
  {
   "cell_type": "markdown",
   "metadata": {},
   "source": [
    "## Path"
   ]
  },
  {
   "cell_type": "code",
   "execution_count": null,
   "metadata": {},
   "outputs": [],
   "source": [
    "fig_dir = \"../../logs_saved/2022-06-24/20 tasks cross reg figs hat_pmnist/runs/2023-06-25_01-33-02/mask/train/fig\"\n",
    "module_list = [\"fc0\", \"fc1\", \"fc2\"]\n",
    "num_tasks = 20\n",
    "every_n_train_steps = 50"
   ]
  },
  {
   "attachments": {},
   "cell_type": "markdown",
   "metadata": {},
   "source": [
    "## Create train mask GIF over steps"
   ]
  },
  {
   "cell_type": "code",
   "execution_count": null,
   "metadata": {},
   "outputs": [],
   "source": [
    "for module_name in module_list:\n",
    "    for task_id in range(num_tasks):\n",
    "        frames = []\n",
    "        step = 0\n",
    "        while True:\n",
    "            step += every_n_train_steps\n",
    "            try:\n",
    "                image = imageio.imread(os.path.join(fig_dir, f\"{module_name}_task{task_id}_step{step}.png\"))\n",
    "            except:\n",
    "                break\n",
    "            frames.append(image)\n",
    "            \n",
    "        imageio.mimsave(f\"{module_name}_task{task_id}_train.gif\", # output gif\n",
    "                        frames,          # array of input frames\n",
    "                        duration = 200)         # optional: duration in ms"
   ]
  }
 ],
 "metadata": {
  "kernelspec": {
   "display_name": "continual-learning-arena",
   "language": "python",
   "name": "python3"
  },
  "language_info": {
   "codemirror_mode": {
    "name": "ipython",
    "version": 3
   },
   "file_extension": ".py",
   "mimetype": "text/x-python",
   "name": "python",
   "nbconvert_exporter": "python",
   "pygments_lexer": "ipython3",
   "version": "3.9.16"
  },
  "orig_nbformat": 4
 },
 "nbformat": 4,
 "nbformat_minor": 2
}
