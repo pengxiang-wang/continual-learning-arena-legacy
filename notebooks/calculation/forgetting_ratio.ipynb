{
 "cells": [
  {
   "cell_type": "code",
   "execution_count": null,
   "metadata": {},
   "outputs": [],
   "source": [
    "import pandas as pd\n",
    "import matplotlib.pyplot as plt\n",
    "import numpy as np"
   ]
  },
  {
   "cell_type": "code",
   "execution_count": null,
   "metadata": {},
   "outputs": [],
   "source": [
    "csv_path = \"\"\n",
    "\n",
    "joint_csv_path = \"\"\n",
    "\n",
    "random_csv_path = \"logs/Random_1/runs/2024-03-10_11-52-25/csv/test_metrics.csv\"\n",
    "\n",
    "output_csv_path = \"\""
   ]
  },
  {
   "cell_type": "code",
   "execution_count": null,
   "metadata": {},
   "outputs": [],
   "source": [
    " # read csv\n",
    "\n",
    "df = pd.read_csv(csv_path)\n",
    "df_joint = pd.read_csv(joint_csv_path)\n",
    "df_joint = pd.read_csv(random_csv_path)\n",
    "\n",
    "\n",
    "\n",
    "\n",
    "with open(csv_path) as csvfile:   \n",
    "    reader = pd.read_csv.DictReader(csvfile)\n",
    "    ave_acc_column = [float(row['test/acc/ave']) for row in reader]\n",
    "    \n",
    "with open(joint_csv_path) as csvfile:   \n",
    "    reader = csv.DictReader(csvfile)\n",
    "    _column = [float(row['test/acc/ave']) for row in reader]\n",
    "     \n",
    "with open(random_csv_path) as csvfile:   \n",
    "    reader = csv.DictReader(csvfile)\n",
    "    _column = [float(row['test/acc/ave']) for row in reader]\n",
    "    \n",
    "   \n",
    "# calculate\n",
    "   \n",
    "    \n",
    "# write\n",
    "forgetting_ratio_csv_path"
   ]
  }
 ],
 "metadata": {
  "language_info": {
   "name": "python"
  }
 },
 "nbformat": 4,
 "nbformat_minor": 2
}
