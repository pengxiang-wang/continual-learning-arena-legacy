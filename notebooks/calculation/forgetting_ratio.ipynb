{
 "cells": [
  {
   "cell_type": "code",
   "execution_count": null,
   "metadata": {},
   "outputs": [],
   "source": [
    "csv_path = \n",
    "\n",
    "joint_csv_path = \n",
    "\n",
    "random_csv_path = \n",
    "\n",
    "forgetting_ratio_csv_path = \"\""
   ]
  },
  {
   "cell_type": "code",
   "execution_count": null,
   "metadata": {},
   "outputs": [],
   "source": [
    " # read csv\n",
    "\n",
    "with open(csv_path) as csvfile:   \n",
    "    reader = csv.DictReader(csvfile)\n",
    "    ave_acc_column = [float(row['test/acc/ave']) for row in reader]\n",
    "    \n",
    "with open(joint_csv_path) as csvfile:   \n",
    "    reader = csv.DictReader(csvfile)\n",
    "    _column = [float(row['test/acc/ave']) for row in reader]\n",
    "     \n",
    "with open(random_csv_path) as csvfile:   \n",
    "    reader = csv.DictReader(csvfile)\n",
    "    _column = [float(row['test/acc/ave']) for row in reader]\n",
    "    \n",
    "   \n",
    "# calculate\n",
    "   \n",
    "    \n",
    "# write\n",
    "forgetting_ratio_csv_path"
   ]
  }
 ],
 "metadata": {
  "language_info": {
   "name": "python"
  }
 },
 "nbformat": 4,
 "nbformat_minor": 2
}
